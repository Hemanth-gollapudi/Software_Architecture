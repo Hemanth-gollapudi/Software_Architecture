{
 "cells": [
  {
   "cell_type": "code",
   "execution_count": 1,
   "metadata": {},
   "outputs": [
    {
     "data": {
      "text/plain": [
       "[Document(metadata={'source': 'C:/Users/golla/Downloads/sciencerag.pdf', 'page': 0}, page_content='Photosynthesis in Plants\\nPhotosynthesis is a biological process that occurs in plants, algae, and some bacteria, where light\\nenergy is \\nconverted into chemical energy in the form of glucose (a sugar) and oxygen. This process is vital for\\nthe survival \\nof life on Earth, as it provides the base for the food chain and releases oxygen into the atmosphere.\\n### The Process of Photosynthesis\\nPhotosynthesis takes place primarily in the leaves of plants, within specialized organelles called\\nchloroplasts.\\nThe process can be broken down into two main stages: the light-dependent reactions and the Calvin\\ncycle \\n(light-independent reactions).\\n1. **Light-dependent reactions (Occurs in thylakoid membranes of chloroplasts)**\\nThese reactions occur when light is absorbed by chlorophyll pigments in the thylakoid membranes.\\nWater molecules are \\nsplit into oxygen, protons (H+), and electrons through photolysis. The electrons move through the\\nelectron \\ntransport chain, creating ATP and NADPH as energy carriers.\\n**Chemical Reaction:**\\n6H2O + 6CO2 + light energy -> C6H12O6 (glucose) + 6O2'),\n",
       " Document(metadata={'source': 'C:/Users/golla/Downloads/sciencerag.pdf', 'page': 1}, page_content=\"- **Inputs**: Light energy, water, and carbon dioxide\\n- **Outputs**: Glucose, oxygen, and ATP\\n2. **Calvin Cycle (Occurs in the stroma of chloroplasts)**\\nThe Calvin cycle is where carbon dioxide from the air is used to produce glucose using ATP and\\nNADPH from the \\nlight-dependent reactions. This process occurs in the stroma of chloroplasts and does not require\\nlight.\\n**Key Steps:**\\n- Carbon fixation: Carbon dioxide is attached to a five-carbon sugar molecule, RuBP, with the help of\\nthe enzyme \\nRuBisCO.\\n- Reduction: ATP and NADPH convert the fixed carbon into G3P, a three-carbon molecule.\\n- Regeneration of RuBP: Some G3P is used to regenerate RuBP, allowing the cycle to continue.\\n### The Importance of Photosynthesis\\n- **Oxygen Production**: Photosynthesis is the primary source of oxygen in the Earth's atmosphere.\\n- **Energy Storage**: Plants store energy in the form of glucose, which can be used for cellular\\nrespiration \\nor stored as starch for later use.\\n- **Foundation of Food Chains**: As producers, plants form the base of the food chain and provide\\nenergy \\nfor herbivores, which are then consumed by carnivores.\"),\n",
       " Document(metadata={'source': 'C:/Users/golla/Downloads/sciencerag.pdf', 'page': 2}, page_content='### Factors Affecting Photosynthesis\\nSeveral factors influence the rate of photosynthesis:\\n- **Light intensity**: Higher light intensity increases the rate up to a point.\\n- **Carbon dioxide concentration**: Higher concentrations can enhance the process.\\n- **Temperature**: Optimal temperature range ensures enzymes function properly.'),\n",
       " Document(metadata={'source': 'C:/Users/golla/Downloads/sciencerag.pdf', 'page': 3}, page_content='The Human Nervous System\\nThe human nervous system is a highly complex network responsible for controlling and coordinating\\nbodily functions, \\nfrom the simplest reflexes to the most sophisticated cognitive processes. It consists of two major\\nparts: \\nthe central nervous system (CNS) and the peripheral nervous system (PNS).\\n### Central Nervous System (CNS)\\n1. **Brain**: The brain is the control center of the nervous system, processing information and\\nsending signals to \\nthe body. It consists of the cerebrum, cerebellum, and brainstem. \\n- **Cerebrum**: The largest part of the brain, responsible for cognitive functions like thinking,\\nmemory, and \\nemotion.\\n- **Cerebellum**: Involved in coordination of movement, balance, and posture.\\n- **Brainstem**: Controls basic life functions like heartbeat, breathing, and sleep.\\n2. **Spinal Cord**: The spinal cord connects the brain to the peripheral nervous system and is\\ninvolved in \\nreflex actions. It is protected by the vertebrae.\\n### Peripheral Nervous System (PNS)\\nThe PNS includes all the nerves outside the CNS and is divided into two main systems:'),\n",
       " Document(metadata={'source': 'C:/Users/golla/Downloads/sciencerag.pdf', 'page': 4}, page_content='- **Somatic Nervous System**: Controls voluntary movements by connecting the CNS to the\\nmuscles.\\n- **Autonomic Nervous System**: Regulates involuntary functions like heart rate and digestion. It is\\nfurther divided \\ninto:\\n  - **Sympathetic Nervous System**: Prepares the body for stressful situations (\"fight or flight\").\\n  - **Parasympathetic Nervous System**: Conserves energy and restores the body to a calm state.\\n### Nerve Cells (Neurons)\\nThe nervous system is made up of specialized cells called neurons, which transmit signals\\nthroughout the body. \\nA neuron consists of three main parts:\\n- **Cell Body (Soma)**: Contains the nucleus and organelles.\\n- **Dendrites**: Receive incoming signals.\\n- **Axon**: Transmits signals away from the cell body to other neurons or muscles.\\n### Nerve Impulse Transmission\\nNeurons communicate with each other via electrical signals called action potentials. When a neuron\\nis activated, \\nan action potential travels down its axon to the synapse, where neurotransmitters are released to\\nsend the signal \\nto the next neuron.\\n### Table: Key Components of the Human Nervous System'),\n",
       " Document(metadata={'source': 'C:/Users/golla/Downloads/sciencerag.pdf', 'page': 5}, page_content='| Component                | Function                                      |\\n|--------------------------|-----------------------------------------------|\\n| Brain                    | Control center for processing information     |\\n| Spinal Cord               | Relays signals between the brain and the body |\\n| Neurons                  | Transmit electrical signals across the body   |\\n| Sympathetic Nervous System| Prepares body for stress (\"fight or flight\")  |\\n| Parasympathetic Nervous System| Restores calm and conserves energy         |\\n### The Importance of the Nervous System\\n- **Coordination**: The nervous system coordinates every action the body performs, ensuring proper\\nfunctioning \\nof organs and muscles.\\n- **Reflexes**: It helps in automatic responses to certain stimuli, such as pulling a hand away from a\\nhot surface.\\n- **Homeostasis**: The autonomic nervous system maintains internal stability by regulating\\nheartbeat, breathing, \\nand body temperature.')]"
      ]
     },
     "execution_count": 1,
     "metadata": {},
     "output_type": "execute_result"
    }
   ],
   "source": [
    "from langchain.document_loaders import PyPDFLoader\n",
    "\n",
    "loader = PyPDFLoader(\"C:/Users/golla/Downloads/sciencerag.pdf\")\n",
    "\n",
    "document = loader.load()\n",
    "\n",
    "document"
   ]
  },
  {
   "cell_type": "code",
   "execution_count": 2,
   "metadata": {},
   "outputs": [],
   "source": [
    "from langchain.text_splitter import RecursiveCharacterTextSplitter\n",
    "\n",
    "text_splitter = RecursiveCharacterTextSplitter(chunk_size=1000,chunk_overlap=200)"
   ]
  },
  {
   "cell_type": "code",
   "execution_count": 3,
   "metadata": {},
   "outputs": [
    {
     "name": "stdout",
     "output_type": "stream",
     "text": [
      "page_content='Photosynthesis in Plants\n",
      "Photosynthesis is a biological process that occurs in plants, algae, and some bacteria, where light\n",
      "energy is \n",
      "converted into chemical energy in the form of glucose (a sugar) and oxygen. This process is vital for\n",
      "the survival \n",
      "of life on Earth, as it provides the base for the food chain and releases oxygen into the atmosphere.\n",
      "### The Process of Photosynthesis\n",
      "Photosynthesis takes place primarily in the leaves of plants, within specialized organelles called\n",
      "chloroplasts.\n",
      "The process can be broken down into two main stages: the light-dependent reactions and the Calvin\n",
      "cycle \n",
      "(light-independent reactions).\n",
      "1. **Light-dependent reactions (Occurs in thylakoid membranes of chloroplasts)**\n",
      "These reactions occur when light is absorbed by chlorophyll pigments in the thylakoid membranes.\n",
      "Water molecules are \n",
      "split into oxygen, protons (H+), and electrons through photolysis. The electrons move through the\n",
      "electron' metadata={'source': 'C:/Users/golla/Downloads/sciencerag.pdf', 'page': 0}\n",
      "----------------\n",
      "page_content='Water molecules are \n",
      "split into oxygen, protons (H+), and electrons through photolysis. The electrons move through the\n",
      "electron \n",
      "transport chain, creating ATP and NADPH as energy carriers.\n",
      "**Chemical Reaction:**\n",
      "6H2O + 6CO2 + light energy -> C6H12O6 (glucose) + 6O2' metadata={'source': 'C:/Users/golla/Downloads/sciencerag.pdf', 'page': 0}\n",
      "----------------\n",
      "page_content='- **Inputs**: Light energy, water, and carbon dioxide\n",
      "- **Outputs**: Glucose, oxygen, and ATP\n",
      "2. **Calvin Cycle (Occurs in the stroma of chloroplasts)**\n",
      "The Calvin cycle is where carbon dioxide from the air is used to produce glucose using ATP and\n",
      "NADPH from the \n",
      "light-dependent reactions. This process occurs in the stroma of chloroplasts and does not require\n",
      "light.\n",
      "**Key Steps:**\n",
      "- Carbon fixation: Carbon dioxide is attached to a five-carbon sugar molecule, RuBP, with the help of\n",
      "the enzyme \n",
      "RuBisCO.\n",
      "- Reduction: ATP and NADPH convert the fixed carbon into G3P, a three-carbon molecule.\n",
      "- Regeneration of RuBP: Some G3P is used to regenerate RuBP, allowing the cycle to continue.\n",
      "### The Importance of Photosynthesis\n",
      "- **Oxygen Production**: Photosynthesis is the primary source of oxygen in the Earth's atmosphere.\n",
      "- **Energy Storage**: Plants store energy in the form of glucose, which can be used for cellular\n",
      "respiration \n",
      "or stored as starch for later use.' metadata={'source': 'C:/Users/golla/Downloads/sciencerag.pdf', 'page': 1}\n",
      "----------------\n",
      "page_content='- **Energy Storage**: Plants store energy in the form of glucose, which can be used for cellular\n",
      "respiration \n",
      "or stored as starch for later use.\n",
      "- **Foundation of Food Chains**: As producers, plants form the base of the food chain and provide\n",
      "energy \n",
      "for herbivores, which are then consumed by carnivores.' metadata={'source': 'C:/Users/golla/Downloads/sciencerag.pdf', 'page': 1}\n",
      "----------------\n",
      "page_content='### Factors Affecting Photosynthesis\n",
      "Several factors influence the rate of photosynthesis:\n",
      "- **Light intensity**: Higher light intensity increases the rate up to a point.\n",
      "- **Carbon dioxide concentration**: Higher concentrations can enhance the process.\n",
      "- **Temperature**: Optimal temperature range ensures enzymes function properly.' metadata={'source': 'C:/Users/golla/Downloads/sciencerag.pdf', 'page': 2}\n",
      "----------------\n",
      "page_content='The Human Nervous System\n",
      "The human nervous system is a highly complex network responsible for controlling and coordinating\n",
      "bodily functions, \n",
      "from the simplest reflexes to the most sophisticated cognitive processes. It consists of two major\n",
      "parts: \n",
      "the central nervous system (CNS) and the peripheral nervous system (PNS).\n",
      "### Central Nervous System (CNS)\n",
      "1. **Brain**: The brain is the control center of the nervous system, processing information and\n",
      "sending signals to \n",
      "the body. It consists of the cerebrum, cerebellum, and brainstem. \n",
      "- **Cerebrum**: The largest part of the brain, responsible for cognitive functions like thinking,\n",
      "memory, and \n",
      "emotion.\n",
      "- **Cerebellum**: Involved in coordination of movement, balance, and posture.\n",
      "- **Brainstem**: Controls basic life functions like heartbeat, breathing, and sleep.\n",
      "2. **Spinal Cord**: The spinal cord connects the brain to the peripheral nervous system and is\n",
      "involved in \n",
      "reflex actions. It is protected by the vertebrae.' metadata={'source': 'C:/Users/golla/Downloads/sciencerag.pdf', 'page': 3}\n",
      "----------------\n",
      "page_content='2. **Spinal Cord**: The spinal cord connects the brain to the peripheral nervous system and is\n",
      "involved in \n",
      "reflex actions. It is protected by the vertebrae.\n",
      "### Peripheral Nervous System (PNS)\n",
      "The PNS includes all the nerves outside the CNS and is divided into two main systems:' metadata={'source': 'C:/Users/golla/Downloads/sciencerag.pdf', 'page': 3}\n",
      "----------------\n",
      "page_content='- **Somatic Nervous System**: Controls voluntary movements by connecting the CNS to the\n",
      "muscles.\n",
      "- **Autonomic Nervous System**: Regulates involuntary functions like heart rate and digestion. It is\n",
      "further divided \n",
      "into:\n",
      "  - **Sympathetic Nervous System**: Prepares the body for stressful situations (\"fight or flight\").\n",
      "  - **Parasympathetic Nervous System**: Conserves energy and restores the body to a calm state.\n",
      "### Nerve Cells (Neurons)\n",
      "The nervous system is made up of specialized cells called neurons, which transmit signals\n",
      "throughout the body. \n",
      "A neuron consists of three main parts:\n",
      "- **Cell Body (Soma)**: Contains the nucleus and organelles.\n",
      "- **Dendrites**: Receive incoming signals.\n",
      "- **Axon**: Transmits signals away from the cell body to other neurons or muscles.\n",
      "### Nerve Impulse Transmission\n",
      "Neurons communicate with each other via electrical signals called action potentials. When a neuron\n",
      "is activated,' metadata={'source': 'C:/Users/golla/Downloads/sciencerag.pdf', 'page': 4}\n",
      "----------------\n",
      "page_content='### Nerve Impulse Transmission\n",
      "Neurons communicate with each other via electrical signals called action potentials. When a neuron\n",
      "is activated, \n",
      "an action potential travels down its axon to the synapse, where neurotransmitters are released to\n",
      "send the signal \n",
      "to the next neuron.\n",
      "### Table: Key Components of the Human Nervous System' metadata={'source': 'C:/Users/golla/Downloads/sciencerag.pdf', 'page': 4}\n",
      "----------------\n",
      "page_content='| Component                | Function                                      |\n",
      "|--------------------------|-----------------------------------------------|\n",
      "| Brain                    | Control center for processing information     |\n",
      "| Spinal Cord               | Relays signals between the brain and the body |\n",
      "| Neurons                  | Transmit electrical signals across the body   |\n",
      "| Sympathetic Nervous System| Prepares body for stress (\"fight or flight\")  |\n",
      "| Parasympathetic Nervous System| Restores calm and conserves energy         |\n",
      "### The Importance of the Nervous System\n",
      "- **Coordination**: The nervous system coordinates every action the body performs, ensuring proper\n",
      "functioning \n",
      "of organs and muscles.\n",
      "- **Reflexes**: It helps in automatic responses to certain stimuli, such as pulling a hand away from a\n",
      "hot surface.\n",
      "- **Homeostasis**: The autonomic nervous system maintains internal stability by regulating\n",
      "heartbeat, breathing, \n",
      "and body temperature.' metadata={'source': 'C:/Users/golla/Downloads/sciencerag.pdf', 'page': 5}\n",
      "----------------\n"
     ]
    }
   ],
   "source": [
    "chunks = text_splitter.split_documents(document)\n",
    "\n",
    "for chunk in chunks:\n",
    "    print(chunk)\n",
    "    print(\"----------------\")"
   ]
  },
  {
   "cell_type": "code",
   "execution_count": 4,
   "metadata": {},
   "outputs": [
    {
     "name": "stderr",
     "output_type": "stream",
     "text": [
      "c:\\Python312\\Lib\\site-packages\\sentence_transformers\\cross_encoder\\CrossEncoder.py:11: TqdmExperimentalWarning: Using `tqdm.autonotebook.tqdm` in notebook mode. Use `tqdm.tqdm` instead to force console mode (e.g. in jupyter console)\n",
      "  from tqdm.autonotebook import tqdm, trange\n"
     ]
    },
    {
     "name": "stdout",
     "output_type": "stream",
     "text": [
      "WARNING:tensorflow:From c:\\Python312\\Lib\\site-packages\\tf_keras\\src\\losses.py:2976: The name tf.losses.sparse_softmax_cross_entropy is deprecated. Please use tf.compat.v1.losses.sparse_softmax_cross_entropy instead.\n",
      "\n"
     ]
    }
   ],
   "source": [
    "from sentence_transformers import SentenceTransformer\n",
    "\n",
    "embedding = SentenceTransformer('Alibaba-NLP/gte-large-en-v1.5',trust_remote_code=True)"
   ]
  },
  {
   "cell_type": "code",
   "execution_count": 5,
   "metadata": {},
   "outputs": [],
   "source": [
    "em = embedding.encode('My name is hemanth')"
   ]
  },
  {
   "cell_type": "code",
   "execution_count": 6,
   "metadata": {},
   "outputs": [
    {
     "data": {
      "text/plain": [
       "array([-0.09014966, -0.32934108,  0.1366087 , ..., -0.21335939,\n",
       "       -0.52650166, -0.62721777], dtype=float32)"
      ]
     },
     "execution_count": 6,
     "metadata": {},
     "output_type": "execute_result"
    }
   ],
   "source": [
    "em"
   ]
  },
  {
   "cell_type": "code",
   "execution_count": 7,
   "metadata": {},
   "outputs": [
    {
     "data": {
      "text/plain": [
       "1024"
      ]
     },
     "execution_count": 7,
     "metadata": {},
     "output_type": "execute_result"
    }
   ],
   "source": [
    "len(em)"
   ]
  },
  {
   "cell_type": "code",
   "execution_count": 1,
   "metadata": {},
   "outputs": [
    {
     "ename": "ModuleNotFoundError",
     "evalue": "No module named 'pymilvus'",
     "output_type": "error",
     "traceback": [
      "\u001b[1;31m---------------------------------------------------------------------------\u001b[0m",
      "\u001b[1;31mModuleNotFoundError\u001b[0m                       Traceback (most recent call last)",
      "Cell \u001b[1;32mIn[1], line 1\u001b[0m\n\u001b[1;32m----> 1\u001b[0m \u001b[38;5;28;01mfrom\u001b[39;00m \u001b[38;5;21;01mpymilvus\u001b[39;00m \u001b[38;5;28;01mimport\u001b[39;00m connections, Collection, db, utility, DataType,CollectionSchema,FieldSchema\n\u001b[0;32m      3\u001b[0m \u001b[38;5;28;01mtry\u001b[39;00m:\n\u001b[0;32m      4\u001b[0m     connections\u001b[38;5;241m.\u001b[39mconnect(host\u001b[38;5;241m=\u001b[39m\u001b[38;5;124m'\u001b[39m\u001b[38;5;124m127.0.0.1\u001b[39m\u001b[38;5;124m'\u001b[39m, port\u001b[38;5;241m=\u001b[39m\u001b[38;5;124m'\u001b[39m\u001b[38;5;124m19530\u001b[39m\u001b[38;5;124m'\u001b[39m)\n",
      "\u001b[1;31mModuleNotFoundError\u001b[0m: No module named 'pymilvus'"
     ]
    }
   ],
   "source": [
    "from pymilvus import connections, Collection, db, utility, DataType,CollectionSchema,FieldSchema\n",
    "\n",
    "try:\n",
    "    connections.connect(host='127.0.0.1', port='19530')\n",
    "    print(\"Connected to Milvus successfully!\")\n",
    "except Exception as e:\n",
    "    print(\"Failed to connect:\", e)\n"
   ]
  },
  {
   "cell_type": "code",
   "execution_count": 59,
   "metadata": {},
   "outputs": [
    {
     "data": {
      "text/plain": [
       "['default', 'firstdb']"
      ]
     },
     "execution_count": 59,
     "metadata": {},
     "output_type": "execute_result"
    }
   ],
   "source": [
    "db.list_database()"
   ]
  },
  {
   "cell_type": "code",
   "execution_count": 60,
   "metadata": {},
   "outputs": [],
   "source": [
    "db.using_database('firstdb')"
   ]
  },
  {
   "cell_type": "code",
   "execution_count": 61,
   "metadata": {},
   "outputs": [
    {
     "data": {
      "text/plain": [
       "[]"
      ]
     },
     "execution_count": 61,
     "metadata": {},
     "output_type": "execute_result"
    }
   ],
   "source": [
    "utility.list_collections()"
   ]
  },
  {
   "cell_type": "code",
   "execution_count": 62,
   "metadata": {},
   "outputs": [],
   "source": [
    "id_field = FieldSchema(name=\"id\", dtype=DataType.INT64, is_primary=True, auto_id=True)\n",
    "source_field = FieldSchema(name=\"source\", dtype=DataType.VARCHAR,max_length=255, is_primary=False)\n",
    "page_field = FieldSchema(name=\"page\", dtype=DataType.INT64)\n",
    "embedding_field = FieldSchema(name=\"embeddings\", dtype=DataType.FLOAT_VECTOR,dim=1024)\n",
    "content_field = FieldSchema(name=\"content\", dtype=DataType.VARCHAR, max_length=2048)\n",
    "\n",
    "schema = CollectionSchema(fields=[id_field,source_field, page_field, embedding_field, content_field], description=\"Collection for storing document embeddings\")"
   ]
  },
  {
   "cell_type": "code",
   "execution_count": 63,
   "metadata": {},
   "outputs": [],
   "source": [
    "collection = Collection(name=\"Science\", schema=schema)\n"
   ]
  },
  {
   "cell_type": "code",
   "execution_count": 65,
   "metadata": {},
   "outputs": [
    {
     "data": {
      "text/plain": [
       "['Science']"
      ]
     },
     "execution_count": 65,
     "metadata": {},
     "output_type": "execute_result"
    }
   ],
   "source": [
    "utility.list_collections()"
   ]
  },
  {
   "cell_type": "code",
   "execution_count": 66,
   "metadata": {},
   "outputs": [],
   "source": [
    "#index\n",
    "\n",
    "index_params = {\n",
    "    'metric_type': 'L2',   #eucluedian distance\n",
    "    'index_type': 'HNSW',\n",
    "    'params': {\n",
    "        'M': 16,\n",
    "        'efConstruction': 200\n",
    "    }\n",
    "} "
   ]
  },
  {
   "cell_type": "code",
   "execution_count": 68,
   "metadata": {},
   "outputs": [
    {
     "data": {
      "text/plain": [
       "Status(code=0, message=)"
      ]
     },
     "execution_count": 68,
     "metadata": {},
     "output_type": "execute_result"
    }
   ],
   "source": [
    "collection.create_index(field_name='embeddings', index_params=index_params)"
   ]
  },
  {
   "cell_type": "code",
   "execution_count": 70,
   "metadata": {},
   "outputs": [],
   "source": [
    "collection.load()"
   ]
  },
  {
   "cell_type": "code",
   "execution_count": 71,
   "metadata": {},
   "outputs": [
    {
     "data": {
      "text/plain": [
       "[Document(metadata={'source': 'C:/Users/golla/Downloads/sciencerag.pdf', 'page': 0}, page_content='Photosynthesis in Plants\\nPhotosynthesis is a biological process that occurs in plants, algae, and some bacteria, where light\\nenergy is \\nconverted into chemical energy in the form of glucose (a sugar) and oxygen. This process is vital for\\nthe survival \\nof life on Earth, as it provides the base for the food chain and releases oxygen into the atmosphere.\\n### The Process of Photosynthesis\\nPhotosynthesis takes place primarily in the leaves of plants, within specialized organelles called\\nchloroplasts.\\nThe process can be broken down into two main stages: the light-dependent reactions and the Calvin\\ncycle \\n(light-independent reactions).\\n1. **Light-dependent reactions (Occurs in thylakoid membranes of chloroplasts)**\\nThese reactions occur when light is absorbed by chlorophyll pigments in the thylakoid membranes.\\nWater molecules are \\nsplit into oxygen, protons (H+), and electrons through photolysis. The electrons move through the\\nelectron'),\n",
       " Document(metadata={'source': 'C:/Users/golla/Downloads/sciencerag.pdf', 'page': 0}, page_content='Water molecules are \\nsplit into oxygen, protons (H+), and electrons through photolysis. The electrons move through the\\nelectron \\ntransport chain, creating ATP and NADPH as energy carriers.\\n**Chemical Reaction:**\\n6H2O + 6CO2 + light energy -> C6H12O6 (glucose) + 6O2'),\n",
       " Document(metadata={'source': 'C:/Users/golla/Downloads/sciencerag.pdf', 'page': 1}, page_content=\"- **Inputs**: Light energy, water, and carbon dioxide\\n- **Outputs**: Glucose, oxygen, and ATP\\n2. **Calvin Cycle (Occurs in the stroma of chloroplasts)**\\nThe Calvin cycle is where carbon dioxide from the air is used to produce glucose using ATP and\\nNADPH from the \\nlight-dependent reactions. This process occurs in the stroma of chloroplasts and does not require\\nlight.\\n**Key Steps:**\\n- Carbon fixation: Carbon dioxide is attached to a five-carbon sugar molecule, RuBP, with the help of\\nthe enzyme \\nRuBisCO.\\n- Reduction: ATP and NADPH convert the fixed carbon into G3P, a three-carbon molecule.\\n- Regeneration of RuBP: Some G3P is used to regenerate RuBP, allowing the cycle to continue.\\n### The Importance of Photosynthesis\\n- **Oxygen Production**: Photosynthesis is the primary source of oxygen in the Earth's atmosphere.\\n- **Energy Storage**: Plants store energy in the form of glucose, which can be used for cellular\\nrespiration \\nor stored as starch for later use.\"),\n",
       " Document(metadata={'source': 'C:/Users/golla/Downloads/sciencerag.pdf', 'page': 1}, page_content='- **Energy Storage**: Plants store energy in the form of glucose, which can be used for cellular\\nrespiration \\nor stored as starch for later use.\\n- **Foundation of Food Chains**: As producers, plants form the base of the food chain and provide\\nenergy \\nfor herbivores, which are then consumed by carnivores.'),\n",
       " Document(metadata={'source': 'C:/Users/golla/Downloads/sciencerag.pdf', 'page': 2}, page_content='### Factors Affecting Photosynthesis\\nSeveral factors influence the rate of photosynthesis:\\n- **Light intensity**: Higher light intensity increases the rate up to a point.\\n- **Carbon dioxide concentration**: Higher concentrations can enhance the process.\\n- **Temperature**: Optimal temperature range ensures enzymes function properly.'),\n",
       " Document(metadata={'source': 'C:/Users/golla/Downloads/sciencerag.pdf', 'page': 3}, page_content='The Human Nervous System\\nThe human nervous system is a highly complex network responsible for controlling and coordinating\\nbodily functions, \\nfrom the simplest reflexes to the most sophisticated cognitive processes. It consists of two major\\nparts: \\nthe central nervous system (CNS) and the peripheral nervous system (PNS).\\n### Central Nervous System (CNS)\\n1. **Brain**: The brain is the control center of the nervous system, processing information and\\nsending signals to \\nthe body. It consists of the cerebrum, cerebellum, and brainstem. \\n- **Cerebrum**: The largest part of the brain, responsible for cognitive functions like thinking,\\nmemory, and \\nemotion.\\n- **Cerebellum**: Involved in coordination of movement, balance, and posture.\\n- **Brainstem**: Controls basic life functions like heartbeat, breathing, and sleep.\\n2. **Spinal Cord**: The spinal cord connects the brain to the peripheral nervous system and is\\ninvolved in \\nreflex actions. It is protected by the vertebrae.'),\n",
       " Document(metadata={'source': 'C:/Users/golla/Downloads/sciencerag.pdf', 'page': 3}, page_content='2. **Spinal Cord**: The spinal cord connects the brain to the peripheral nervous system and is\\ninvolved in \\nreflex actions. It is protected by the vertebrae.\\n### Peripheral Nervous System (PNS)\\nThe PNS includes all the nerves outside the CNS and is divided into two main systems:'),\n",
       " Document(metadata={'source': 'C:/Users/golla/Downloads/sciencerag.pdf', 'page': 4}, page_content='- **Somatic Nervous System**: Controls voluntary movements by connecting the CNS to the\\nmuscles.\\n- **Autonomic Nervous System**: Regulates involuntary functions like heart rate and digestion. It is\\nfurther divided \\ninto:\\n  - **Sympathetic Nervous System**: Prepares the body for stressful situations (\"fight or flight\").\\n  - **Parasympathetic Nervous System**: Conserves energy and restores the body to a calm state.\\n### Nerve Cells (Neurons)\\nThe nervous system is made up of specialized cells called neurons, which transmit signals\\nthroughout the body. \\nA neuron consists of three main parts:\\n- **Cell Body (Soma)**: Contains the nucleus and organelles.\\n- **Dendrites**: Receive incoming signals.\\n- **Axon**: Transmits signals away from the cell body to other neurons or muscles.\\n### Nerve Impulse Transmission\\nNeurons communicate with each other via electrical signals called action potentials. When a neuron\\nis activated,'),\n",
       " Document(metadata={'source': 'C:/Users/golla/Downloads/sciencerag.pdf', 'page': 4}, page_content='### Nerve Impulse Transmission\\nNeurons communicate with each other via electrical signals called action potentials. When a neuron\\nis activated, \\nan action potential travels down its axon to the synapse, where neurotransmitters are released to\\nsend the signal \\nto the next neuron.\\n### Table: Key Components of the Human Nervous System'),\n",
       " Document(metadata={'source': 'C:/Users/golla/Downloads/sciencerag.pdf', 'page': 5}, page_content='| Component                | Function                                      |\\n|--------------------------|-----------------------------------------------|\\n| Brain                    | Control center for processing information     |\\n| Spinal Cord               | Relays signals between the brain and the body |\\n| Neurons                  | Transmit electrical signals across the body   |\\n| Sympathetic Nervous System| Prepares body for stress (\"fight or flight\")  |\\n| Parasympathetic Nervous System| Restores calm and conserves energy         |\\n### The Importance of the Nervous System\\n- **Coordination**: The nervous system coordinates every action the body performs, ensuring proper\\nfunctioning \\nof organs and muscles.\\n- **Reflexes**: It helps in automatic responses to certain stimuli, such as pulling a hand away from a\\nhot surface.\\n- **Homeostasis**: The autonomic nervous system maintains internal stability by regulating\\nheartbeat, breathing, \\nand body temperature.')]"
      ]
     },
     "execution_count": 71,
     "metadata": {},
     "output_type": "execute_result"
    }
   ],
   "source": [
    "chunks"
   ]
  },
  {
   "cell_type": "code",
   "execution_count": 72,
   "metadata": {},
   "outputs": [],
   "source": [
    "sources = [chunk.metadata['source'] for chunk in chunks]\n",
    "pages = [chunk.metadata['page'] for chunk in chunks]\n",
    "page_content = [chunk.page_content for chunk in chunks]\n",
    "content_embeddings = [embedding.encode(chunk.page_content) for chunk in chunks]\n"
   ]
  },
  {
   "cell_type": "code",
   "execution_count": 73,
   "metadata": {},
   "outputs": [
    {
     "data": {
      "text/plain": [
       "(insert count: 10, delete count: 0, upsert count: 0, timestamp: 455820572934799363, success count: 10, err count: 0"
      ]
     },
     "execution_count": 73,
     "metadata": {},
     "output_type": "execute_result"
    }
   ],
   "source": [
    "collection.insert([sources,pages,content_embeddings,page_content])"
   ]
  },
  {
   "cell_type": "code",
   "execution_count": 77,
   "metadata": {},
   "outputs": [],
   "source": [
    "def search_milvus(query, collection,limit=3): \n",
    "    query_embedding = embedding.encode(query)\n",
    "    search_params = {\n",
    "    'metric_type': 'L2',   #eucluedian distance\n",
    "    'index_type': 'HNSW',\n",
    "    'params': {\n",
    "        'M': 16,\n",
    "        'efConstruction': 200\n",
    "    }\n",
    "}\n",
    "    results = collection.search(\n",
    "        data = [query_embedding],\n",
    "        anns_field = 'embeddings',\n",
    "        param=search_params,\n",
    "        limit=limit,\n",
    "        output_fields=['source','page','content']\n",
    "    )\n",
    "    return results"
   ]
  },
  {
   "cell_type": "code",
   "execution_count": 84,
   "metadata": {},
   "outputs": [],
   "source": [
    "results = search_milvus('What is photosynthesis',collection,3)"
   ]
  },
  {
   "cell_type": "code",
   "execution_count": 87,
   "metadata": {},
   "outputs": [
    {
     "name": "stdout",
     "output_type": "stream",
     "text": [
      "C:/Users/golla/Downloads/sciencerag.pdf 0 Photosynthesis in Plants\n",
      "Photosynthesis is a biological process that occurs in plants, algae, and some bacteria, where light\n",
      "energy is \n",
      "converted into chemical energy in the form of glucose (a sugar) and oxygen. This process is vital for\n",
      "the survival \n",
      "of life on Earth, as it provides the base for the food chain and releases oxygen into the atmosphere.\n",
      "### The Process of Photosynthesis\n",
      "Photosynthesis takes place primarily in the leaves of plants, within specialized organelles called\n",
      "chloroplasts.\n",
      "The process can be broken down into two main stages: the light-dependent reactions and the Calvin\n",
      "cycle \n",
      "(light-independent reactions).\n",
      "1. **Light-dependent reactions (Occurs in thylakoid membranes of chloroplasts)**\n",
      "These reactions occur when light is absorbed by chlorophyll pigments in the thylakoid membranes.\n",
      "Water molecules are \n",
      "split into oxygen, protons (H+), and electrons through photolysis. The electrons move through the\n",
      "electron\n",
      "C:/Users/golla/Downloads/sciencerag.pdf 0 Water molecules are \n",
      "split into oxygen, protons (H+), and electrons through photolysis. The electrons move through the\n",
      "electron \n",
      "transport chain, creating ATP and NADPH as energy carriers.\n",
      "**Chemical Reaction:**\n",
      "6H2O + 6CO2 + light energy -> C6H12O6 (glucose) + 6O2\n",
      "C:/Users/golla/Downloads/sciencerag.pdf 1 - **Inputs**: Light energy, water, and carbon dioxide\n",
      "- **Outputs**: Glucose, oxygen, and ATP\n",
      "2. **Calvin Cycle (Occurs in the stroma of chloroplasts)**\n",
      "The Calvin cycle is where carbon dioxide from the air is used to produce glucose using ATP and\n",
      "NADPH from the \n",
      "light-dependent reactions. This process occurs in the stroma of chloroplasts and does not require\n",
      "light.\n",
      "**Key Steps:**\n",
      "- Carbon fixation: Carbon dioxide is attached to a five-carbon sugar molecule, RuBP, with the help of\n",
      "the enzyme \n",
      "RuBisCO.\n",
      "- Reduction: ATP and NADPH convert the fixed carbon into G3P, a three-carbon molecule.\n",
      "- Regeneration of RuBP: Some G3P is used to regenerate RuBP, allowing the cycle to continue.\n",
      "### The Importance of Photosynthesis\n",
      "- **Oxygen Production**: Photosynthesis is the primary source of oxygen in the Earth's atmosphere.\n",
      "- **Energy Storage**: Plants store energy in the form of glucose, which can be used for cellular\n",
      "respiration \n",
      "or stored as starch for later use.\n"
     ]
    }
   ],
   "source": [
    "for result in results[0]:\n",
    "    print(result.entity.get('source'),result.entity.get('page'),result.entity.get('content'))"
   ]
  },
  {
   "cell_type": "code",
   "execution_count": 92,
   "metadata": {},
   "outputs": [],
   "source": [
    "def filter_results(results):\n",
    "    data = {}\n",
    "    distance = []\n",
    "    page_numbers = []\n",
    "    contents = []\n",
    "    sources = []\n",
    "    for result in results[0]:\n",
    "        distance.append(result.distance)\n",
    "        page_numbers.append(result.entity.get('page'))\n",
    "        contents.append(result.entity.get('content'))\n",
    "        sources.append(result.entity.get('source'))\n",
    "    data['distance'] = distance\n",
    "    data['page_numbers'] = page_numbers\n",
    "    data['contents'] = contents\n",
    "    data['sources'] = sources\n",
    "    return data"
   ]
  },
  {
   "cell_type": "code",
   "execution_count": 93,
   "metadata": {},
   "outputs": [
    {
     "data": {
      "text/plain": [
       "{'distance': [287.5445251464844, 375.74505615234375, 421.83221435546875],\n",
       " 'page_numbers': [0, 0, 1],\n",
       " 'contents': ['Photosynthesis in Plants\\nPhotosynthesis is a biological process that occurs in plants, algae, and some bacteria, where light\\nenergy is \\nconverted into chemical energy in the form of glucose (a sugar) and oxygen. This process is vital for\\nthe survival \\nof life on Earth, as it provides the base for the food chain and releases oxygen into the atmosphere.\\n### The Process of Photosynthesis\\nPhotosynthesis takes place primarily in the leaves of plants, within specialized organelles called\\nchloroplasts.\\nThe process can be broken down into two main stages: the light-dependent reactions and the Calvin\\ncycle \\n(light-independent reactions).\\n1. **Light-dependent reactions (Occurs in thylakoid membranes of chloroplasts)**\\nThese reactions occur when light is absorbed by chlorophyll pigments in the thylakoid membranes.\\nWater molecules are \\nsplit into oxygen, protons (H+), and electrons through photolysis. The electrons move through the\\nelectron',\n",
       "  'Water molecules are \\nsplit into oxygen, protons (H+), and electrons through photolysis. The electrons move through the\\nelectron \\ntransport chain, creating ATP and NADPH as energy carriers.\\n**Chemical Reaction:**\\n6H2O + 6CO2 + light energy -> C6H12O6 (glucose) + 6O2',\n",
       "  \"- **Inputs**: Light energy, water, and carbon dioxide\\n- **Outputs**: Glucose, oxygen, and ATP\\n2. **Calvin Cycle (Occurs in the stroma of chloroplasts)**\\nThe Calvin cycle is where carbon dioxide from the air is used to produce glucose using ATP and\\nNADPH from the \\nlight-dependent reactions. This process occurs in the stroma of chloroplasts and does not require\\nlight.\\n**Key Steps:**\\n- Carbon fixation: Carbon dioxide is attached to a five-carbon sugar molecule, RuBP, with the help of\\nthe enzyme \\nRuBisCO.\\n- Reduction: ATP and NADPH convert the fixed carbon into G3P, a three-carbon molecule.\\n- Regeneration of RuBP: Some G3P is used to regenerate RuBP, allowing the cycle to continue.\\n### The Importance of Photosynthesis\\n- **Oxygen Production**: Photosynthesis is the primary source of oxygen in the Earth's atmosphere.\\n- **Energy Storage**: Plants store energy in the form of glucose, which can be used for cellular\\nrespiration \\nor stored as starch for later use.\"],\n",
       " 'sources': ['C:/Users/golla/Downloads/sciencerag.pdf',\n",
       "  'C:/Users/golla/Downloads/sciencerag.pdf',\n",
       "  'C:/Users/golla/Downloads/sciencerag.pdf']}"
      ]
     },
     "execution_count": 93,
     "metadata": {},
     "output_type": "execute_result"
    }
   ],
   "source": [
    "filter_results(results)"
   ]
  },
  {
   "cell_type": "code",
   "execution_count": null,
   "metadata": {},
   "outputs": [],
   "source": []
  }
 ],
 "metadata": {
  "kernelspec": {
   "display_name": "Python 3",
   "language": "python",
   "name": "python3"
  },
  "language_info": {
   "codemirror_mode": {
    "name": "ipython",
    "version": 3
   },
   "file_extension": ".py",
   "mimetype": "text/x-python",
   "name": "python",
   "nbconvert_exporter": "python",
   "pygments_lexer": "ipython3",
   "version": "3.10.11"
  }
 },
 "nbformat": 4,
 "nbformat_minor": 2
}
