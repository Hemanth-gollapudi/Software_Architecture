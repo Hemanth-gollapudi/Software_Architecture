{
 "cells": [
  {
   "cell_type": "code",
   "execution_count": 1,
   "metadata": {},
   "outputs": [
    {
     "name": "stdout",
     "output_type": "stream",
     "text": [
      "Connected to Milvus\n"
     ]
    }
   ],
   "source": [
    "from pymilvus import connections\n",
    "\n",
    "def connect_to_milvus():\n",
    "    connections.connect(\"default\", host=\"localhost\", port=\"19530\")\n",
    "    print(\"Connected to Milvus\")\n",
    "\n",
    "if __name__ == \"__main__\":\n",
    "    connect_to_milvus()"
   ]
  },
  {
   "cell_type": "code",
   "execution_count": 2,
   "metadata": {},
   "outputs": [],
   "source": [
    "from pymilvus import FieldSchema, CollectionSchema, DataType, Collection, utility\n",
    "\n",
    "def create_collection(collection_name=\"technology_collection\"):\n",
    "    fields = [\n",
    "        FieldSchema(name=\"id\", dtype=DataType.INT64, is_primary=True, auto_id=True),\n",
    "        FieldSchema(name=\"name\", dtype=DataType.VARCHAR, max_length=100),\n",
    "        FieldSchema(name=\"description\", dtype=DataType.VARCHAR, max_length=500),\n",
    "        FieldSchema(name=\"technology_stack\", dtype=DataType.VARCHAR, max_length=100),\n",
    "        FieldSchema(name=\"vector\", dtype=DataType.FLOAT_VECTOR, dim=384)\n",
    "    ]\n",
    "\n",
    "    schema = CollectionSchema(fields, description=\"Technology Collection\")\n",
    "\n",
    "    if not utility.has_collection(collection_name):\n",
    "        collection = Collection(name=collection_name, schema=schema)\n",
    "        index_params = {\"metric_type\": \"L2\", \"index_type\": \"HNSW\", \"params\": {\"M\": 8, \"efConstruction\": 64}}\n",
    "        collection.create_index(field_name=\"vector\", index_params=index_params)\n",
    "        print(f\"Collection '{collection_name}' created.\")\n",
    "\n",
    "if __name__ == \"__main__\":\n",
    "    create_collection()\n"
   ]
  },
  {
   "cell_type": "code",
   "execution_count": 3,
   "metadata": {},
   "outputs": [
    {
     "name": "stdout",
     "output_type": "stream",
     "text": [
      "Data Loaded: {'Technology': {'Frontend': {'React': {'Version': '17.0.2', 'Description': 'React is a JavaScript library for building user interfaces...'}, 'Angular': {'Version': '11.2.0', 'Description': 'Angular is a platform and framework for building single-page applications...'}, 'Vue': {'Version': '2.6.12', 'Description': 'Vue.js is a progressive JavaScript framework used to build web interfaces...'}}, 'Backend': {'Node': {'Version': '14.16.0', 'Description': 'Node.js is an open-source, cross-platform JavaScript runtime environment...'}, 'Express': {'Version': '4.17.1', 'Description': 'Express.js is a web application framework for Node.js...'}, 'Django': {'Version': '3.1.7', 'Description': 'Django is a high-level Python web framework...'}}}, 'Technology_Stack': {'Frontend': ['React', 'Angular', 'Vue'], 'Backend': ['Node', 'Express', 'Django']}}\n"
     ]
    }
   ],
   "source": [
    "import json\n",
    "\n",
    "def load_data():\n",
    "    data_json = '''\n",
    "    {\n",
    "        \"Technology\": {\n",
    "            \"Frontend\": {\n",
    "                \"React\": {\n",
    "                    \"Version\": \"17.0.2\",\n",
    "                    \"Description\": \"React is a JavaScript library for building user interfaces...\"\n",
    "                },\n",
    "                \"Angular\": {\n",
    "                    \"Version\": \"11.2.0\",\n",
    "                    \"Description\": \"Angular is a platform and framework for building single-page applications...\"\n",
    "                },\n",
    "                \"Vue\": {\n",
    "                    \"Version\": \"2.6.12\",\n",
    "                    \"Description\": \"Vue.js is a progressive JavaScript framework used to build web interfaces...\"\n",
    "                }\n",
    "            },\n",
    "            \"Backend\": {\n",
    "                \"Node\": {\n",
    "                    \"Version\": \"14.16.0\",\n",
    "                    \"Description\": \"Node.js is an open-source, cross-platform JavaScript runtime environment...\"\n",
    "                },\n",
    "                \"Express\": {\n",
    "                    \"Version\": \"4.17.1\",\n",
    "                    \"Description\": \"Express.js is a web application framework for Node.js...\"\n",
    "                },\n",
    "                \"Django\": {\n",
    "                    \"Version\": \"3.1.7\",\n",
    "                    \"Description\": \"Django is a high-level Python web framework...\"\n",
    "                }\n",
    "            }\n",
    "        },\n",
    "        \"Technology_Stack\": {\n",
    "            \"Frontend\": [\"React\", \"Angular\", \"Vue\"],\n",
    "            \"Backend\": [\"Node\", \"Express\", \"Django\"]\n",
    "        }\n",
    "    }\n",
    "    '''\n",
    "    return json.loads(data_json)\n",
    "\n",
    "if __name__ == \"__main__\":\n",
    "    data = load_data()\n",
    "    print(\"Data Loaded:\", data)\n"
   ]
  },
  {
   "cell_type": "code",
   "execution_count": 4,
   "metadata": {},
   "outputs": [
    {
     "name": "stderr",
     "output_type": "stream",
     "text": [
      "C:\\Users\\golla\\AppData\\Local\\Packages\\PythonSoftwareFoundation.Python.3.10_qbz5n2kfra8p0\\LocalCache\\local-packages\\Python310\\site-packages\\tqdm\\auto.py:21: TqdmWarning: IProgress not found. Please update jupyter and ipywidgets. See https://ipywidgets.readthedocs.io/en/stable/user_install.html\n",
      "  from .autonotebook import tqdm as notebook_tqdm\n"
     ]
    },
    {
     "name": "stdout",
     "output_type": "stream",
     "text": [
      "Embedding model loaded.\n"
     ]
    }
   ],
   "source": [
    "from sentence_transformers import SentenceTransformer\n",
    "\n",
    "def load_model():\n",
    "    model = SentenceTransformer(\"all-MiniLM-L6-v2\")\n",
    "    print(\"Embedding model loaded.\")\n",
    "    return model\n",
    "\n",
    "if __name__ == \"__main__\":\n",
    "    model = load_model()\n"
   ]
  },
  {
   "cell_type": "code",
   "execution_count": 15,
   "metadata": {},
   "outputs": [
    {
     "name": "stdout",
     "output_type": "stream",
     "text": [
      "Connected to Milvus\n",
      "Embedding model loaded.\n",
      "Inserted 6 records into 'technology_collection'.\n"
     ]
    }
   ],
   "source": [
    "from pymilvus import Collection\n",
    "\n",
    "def insert_data(collection_name=\"technology_collection\"):\n",
    "    connect_to_milvus()\n",
    "    create_collection(collection_name)\n",
    "    model = load_model()\n",
    "    collection = Collection(name=collection_name)\n",
    "\n",
    "    data = load_data()\n",
    "\n",
    "    # Separate each field into its own list (column-major order)\n",
    "    tech_names = []\n",
    "    descriptions = []\n",
    "    categories = []\n",
    "    vectors = []\n",
    "\n",
    "    for category, tech_list in data[\"Technology_Stack\"].items():\n",
    "        for tech in tech_list:\n",
    "            description = data[\"Technology\"].get(category, {}).get(tech, {}).get(\"Description\", \"\")\n",
    "            vector = model.encode(description).tolist()\n",
    "\n",
    "            tech_names.append(tech)\n",
    "            descriptions.append(description)\n",
    "            categories.append(category)\n",
    "            vectors.append(vector)\n",
    "\n",
    "    # Ensure the insert format is a list of columns\n",
    "    entities = [tech_names, descriptions, categories, vectors]\n",
    "\n",
    "    collection.insert(entities)\n",
    "    collection.flush()\n",
    "    print(f\"Inserted {len(tech_names)} records into '{collection_name}'.\")\n",
    "\n",
    "if __name__ == \"__main__\":\n",
    "    insert_data()\n"
   ]
  },
  {
   "cell_type": "code",
   "execution_count": 17,
   "metadata": {},
   "outputs": [
    {
     "name": "stdout",
     "output_type": "stream",
     "text": [
      "Connected to Milvus\n",
      "Embedding model loaded.\n",
      "Technology: Node\n",
      "Stack: Backend\n",
      "Description: Node.js is an open-source, cross-platform JavaScript runtime environment...\n",
      "\n",
      "Technology: Django\n",
      "Stack: Backend\n",
      "Description: Django is a high-level Python web framework...\n",
      "\n",
      "Technology: Express\n",
      "Stack: Backend\n",
      "Description: Express.js is a web application framework for Node.js...\n",
      "\n"
     ]
    }
   ],
   "source": [
    "from pymilvus import Collection\n",
    "\n",
    "def search_technology(user_query, collection_name=\"technology_collection\"):\n",
    "    connect_to_milvus()\n",
    "    model = load_model()\n",
    "    query_vector = model.encode(user_query).tolist()\n",
    "\n",
    "    collection = Collection(name=collection_name)\n",
    "    collection.load()\n",
    "    \n",
    "    search_params = {\"metric_type\": \"L2\", \"params\": {\"ef\": 64}}\n",
    "    \n",
    "    results = collection.search(\n",
    "        data=[query_vector],\n",
    "        anns_field=\"vector\",\n",
    "        param=search_params,\n",
    "        limit=3,\n",
    "        output_fields=[\"name\", \"description\", \"technology_stack\"]\n",
    "    )\n",
    "\n",
    "    for result in results[0]:\n",
    "        print(f\"Technology: {result.entity.get('name')}\")\n",
    "        print(f\"Stack: {result.entity.get('technology_stack')}\")\n",
    "        print(f\"Description: {result.entity.get('description')}\\n\")\n",
    "\n",
    "if __name__ == \"__main__\":\n",
    "    query = input(\"Enter your query: \")\n",
    "    search_technology(query)\n"
   ]
  },
  {
   "cell_type": "code",
   "execution_count": 19,
   "metadata": {},
   "outputs": [
    {
     "name": "stdout",
     "output_type": "stream",
     "text": [
      "Connected to Milvus\n",
      "Embedding model loaded.\n",
      "Inserted 6 records into 'technology_collection'.\n",
      "Connected to Milvus\n",
      "Embedding model loaded.\n",
      "Technology: React\n",
      "Stack: Frontend\n",
      "Description: React is a JavaScript library for building user interfaces...\n",
      "\n",
      "Technology: React\n",
      "Stack: Frontend\n",
      "Description: React is a JavaScript library for building user interfaces...\n",
      "\n",
      "Technology: Express\n",
      "Stack: Backend\n",
      "Description: Express.js is a web application framework for Node.js...\n",
      "\n"
     ]
    }
   ],
   "source": [
    "def main():\n",
    "    insert_data()\n",
    "    while True:\n",
    "        query = input(\"\\nEnter your search query (or type 'exit' to quit): \")\n",
    "        if query.lower() == \"exit\":\n",
    "            break\n",
    "        search_technology(query)\n",
    "\n",
    "if __name__ == \"__main__\":\n",
    "    main()\n"
   ]
  },
  {
   "cell_type": "code",
   "execution_count": null,
   "metadata": {},
   "outputs": [],
   "source": []
  }
 ],
 "metadata": {
  "kernelspec": {
   "display_name": "Python 3",
   "language": "python",
   "name": "python3"
  },
  "language_info": {
   "codemirror_mode": {
    "name": "ipython",
    "version": 3
   },
   "file_extension": ".py",
   "mimetype": "text/x-python",
   "name": "python",
   "nbconvert_exporter": "python",
   "pygments_lexer": "ipython3",
   "version": "3.10.11"
  }
 },
 "nbformat": 4,
 "nbformat_minor": 2
}
